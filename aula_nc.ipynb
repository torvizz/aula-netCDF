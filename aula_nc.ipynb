{
 "cells": [
  {
   "cell_type": "markdown",
   "metadata": {
    "nbpresent": {
     "id": "c2d94016-ae40-4065-b2f9-187640208d5e"
    },
    "raw_mimetype": "text/markdown"
   },
   "source": [
    "<h1> Manipulação de arquivos netCDF com Python</h1> <div align=\"right\"> <h3>Network Common Data Form</h3> </div> <img src=\"https://www.unidata.ucar.edu/images/logos/netcdf-400x400.png\" align=\"right\">\n",
    "<br>\n",
    "\n",
    "### Autor: Vitor Galazzo\n",
    "\n",
    "<br>\n",
    "\n",
    "<h2>Conteúdo:</h2>\n",
    "<h3>\n",
    "&emsp;1. Instalando a biblioteca netCDF4<br><br>\n",
    "&emsp;2. Cirando um arquivo netCDF<br><br>\n",
    "&emsp;3. Arquitetura:\n",
    "</h3><h4>\n",
    "&emsp;&emsp;&emsp;- Grupos<br><br>\n",
    "&emsp;&emsp;&emsp;- Dimensões<br><br>\n",
    "&emsp;&emsp;&emsp;- Variáveis<br><br>\n",
    "&emsp;&emsp;&emsp;- Atributos</h4>\n",
    "<h3>&emsp;4. Escrevendo e recuperando dados</h3>\n",
    "\n",
    "<br><br>\n",
    "<hr style=\"background-color:gray;height:20px;\">\n",
    "<br><br>\n",
    "\n",
    "## 1. Instalando a biblioteca netCDF4\n",
    "\n",
    "<br>\n",
    "\n",
    "### Terminal Linux ou conda prompt no Windows\n",
    "\n",
    "\n",
    "\n",
    "conda install -c conda-forge netCDF4\n",
    "\n",
    "<br>\n",
    "\n",
    "<a href=\"http://unidata.github.io/netcdf4-python/\"><h3> Documentação </h3></a>\n",
    "\n",
    "<br>\n",
    "\n",
    "<hr style=\"background-color:gray;height:20px;\">\n",
    "\n",
    "<br>\n",
    "\n",
    "## 2. Criando um arquivo netCDF\n",
    "\n",
    "### Importando bibliotecas"
   ]
  },
  {
   "cell_type": "code",
   "execution_count": 3,
   "metadata": {
    "nbpresent": {
     "id": "185a0787-7732-4789-bd94-94a4663fc9e4"
    }
   },
   "outputs": [],
   "source": [
    "import warnings\n",
    "warnings.filterwarnings(\"ignore\")\n",
    "import netCDF4 as nc\n",
    "import pandas as pd\n",
    "import numpy as np\n",
    "import matplotlib.pyplot as plt"
   ]
  },
  {
   "cell_type": "markdown",
   "metadata": {
    "nbpresent": {
     "id": "f31a9517-95d1-4bde-83cd-75f7ded14836"
    }
   },
   "source": [
    "### Criando arquivo"
   ]
  },
  {
   "cell_type": "code",
   "execution_count": 4,
   "metadata": {
    "nbpresent": {
     "id": "3709ee3d-424e-4422-b4e9-a0449896d6d5"
    }
   },
   "outputs": [],
   "source": [
    "ncTest = nc.Dataset('Dropbox/aula_nc/ncTest.nc', 'w', format='NETCDF4')"
   ]
  },
  {
   "cell_type": "code",
   "execution_count": 1,
   "metadata": {
    "nbpresent": {
     "id": "ba0717b8-95fa-460d-9e89-d9fa67a937dc"
    }
   },
   "outputs": [
    {
     "name": "stdout",
     "output_type": "stream",
     "text": [
      "Dropbox/aula_nc/ncTest.nc\r\n"
     ]
    }
   ],
   "source": [
    "ls Dropbox/aula_nc/*.nc\n"
   ]
  },
  {
   "cell_type": "markdown",
   "metadata": {
    "nbpresent": {
     "id": "a66d99cd-03b6-40c5-94df-1f9f9784d8ea"
    }
   },
   "source": [
    "<br>\n",
    "<hr style=\"background-color:gray;height:20px;\">\n",
    "<br>\n",
    "\n",
    "## 3. Arquitetura\n",
    "<br><br>\n",
    "<h3>&emsp;&emsp;&emsp;&emsp;&emsp; netCDF Clássico &emsp;&emsp;&emsp;&emsp;&emsp;&emsp;&emsp;&emsp; &emsp;&emsp;&emsp;&emsp;&emsp;&emsp;&emsp;&emsp;&emsp;&emsp;&emsp;&emsp;&emsp;&emsp;&emsp;   netCDF 4</h3>\n",
    "<img src=\"https://www.unidata.ucar.edu/software/netcdf/papers/nc4_conventions_images/nc3-uml.png\" style=\"height: 300px;\" align=\"left\">\n",
    "<img src=\"https://www.unidata.ucar.edu/software/netcdf/papers/nc4_conventions_images/nc4-uml.png\" style=\"height: 320px;\" align=\"right\">\n",
    "\n",
    "\n",
    "\n",
    "<br><br><br><br><br><br><br><br><br><br><br><br><br><br><br><br><br><br>\n",
    "\n",
    "<p style=\"font-size:130%;\"> - <a href=\"https://www.unidata.ucar.edu/software/netcdf/conventions.html\">Lista de Convensões</a> na geração de produtos no formato netCDF utilizadas pelos maiores distribuidores</p>\n",
    "\n",
    "<br><br>\n",
    "\n",
    "### &emsp;&emsp;&emsp;&emsp; - Grupos"
   ]
  },
  {
   "cell_type": "code",
   "execution_count": 4,
   "metadata": {
    "nbpresent": {
     "id": "21ae8104-f83d-4c1c-aa75-a40f243aaece"
    }
   },
   "outputs": [
    {
     "name": "stdout",
     "output_type": "stream",
     "text": [
      "<type 'netCDF4._netCDF4.Group'>\n",
      "group /grupo1:\n",
      "    dimensions(sizes): \n",
      "    variables(dimensions): \n",
      "    groups: \n",
      "\n"
     ]
    }
   ],
   "source": [
    "grupo1 = ncTest.createGroup(u'grupo1')\n",
    "\n",
    "print grupo1"
   ]
  },
  {
   "cell_type": "code",
   "execution_count": 5,
   "metadata": {
    "nbpresent": {
     "id": "ce8617bf-6377-4534-8d82-19d33a56f722"
    }
   },
   "outputs": [
    {
     "name": "stdout",
     "output_type": "stream",
     "text": [
      "<type 'netCDF4._netCDF4.Group'>\n",
      "group /grupo1:\n",
      "    dimensions(sizes): \n",
      "    variables(dimensions): \n",
      "    groups: grupo1a\n",
      "\n",
      "<type 'netCDF4._netCDF4.Group'>\n",
      "group /grupo1/grupo1a:\n",
      "    dimensions(sizes): \n",
      "    variables(dimensions): \n",
      "    groups: \n",
      "\n"
     ]
    }
   ],
   "source": [
    "grupo1a = ncTest.createGroup(u'grupo1/grupo1a')\n",
    "\n",
    "print grupo1\n",
    "print grupo1a"
   ]
  },
  {
   "cell_type": "markdown",
   "metadata": {
    "nbpresent": {
     "id": "11447f4b-65ad-4b9b-98f7-e496662488b1"
    }
   },
   "source": [
    "### &emsp;&emsp;&emsp;&emsp; - Dimenções"
   ]
  },
  {
   "cell_type": "code",
   "execution_count": 5,
   "metadata": {
    "nbpresent": {
     "id": "cb0a4b1f-272d-4f8e-928e-e67a0f06fbf9"
    }
   },
   "outputs": [],
   "source": [
    "time = ncTest.createDimension('time', None)\n",
    "\n",
    "lat = ncTest.createDimension('lat', 180)\n",
    "\n",
    "lon = ncTest.createDimension('lon', 360)"
   ]
  },
  {
   "cell_type": "markdown",
   "metadata": {},
   "source": [
    "#### Quando não estipulado o tamanho das dimenções elas são consideradas _ilimitadas_ podendo variar e aceitar o armazenamento de novos dados quando se desejar"
   ]
  },
  {
   "cell_type": "code",
   "execution_count": 7,
   "metadata": {
    "nbpresent": {
     "id": "7eedbfdc-67bc-4c80-a390-7fb7d5aba4d2"
    }
   },
   "outputs": [
    {
     "data": {
      "text/plain": [
       "OrderedDict([('time',\n",
       "              <type 'netCDF4._netCDF4.Dimension'> (unlimited): name = 'time', size = 0),\n",
       "             ('lat',\n",
       "              <type 'netCDF4._netCDF4.Dimension'>: name = 'lat', size = 180),\n",
       "             ('lon',\n",
       "              <type 'netCDF4._netCDF4.Dimension'>: name = 'lon', size = 360)])"
      ]
     },
     "execution_count": 7,
     "metadata": {},
     "output_type": "execute_result"
    }
   ],
   "source": [
    "ncTest.dimensions"
   ]
  },
  {
   "cell_type": "markdown",
   "metadata": {
    "nbpresent": {
     "id": "0947da24-aeca-4da4-a8f1-2e790a984314"
    }
   },
   "source": [
    "### &emsp;&emsp;&emsp;&emsp; - Variáveis\n",
    "\n",
    "#### &emsp;&emsp;&emsp;&emsp; Criadas definindo uma _key_ para ser acessada do arquivo, um tipo de arquivo (ex: 'i4' = inteiro de 32 bits) e as dimensões previamente definidas"
   ]
  },
  {
   "cell_type": "code",
   "execution_count": 6,
   "metadata": {
    "nbpresent": {
     "id": "f728f2ba-839e-403a-97ca-1bfdb4f6ad61"
    }
   },
   "outputs": [],
   "source": [
    "times = ncTest.createVariable(\"time\",\"i4\",(\"time\",))\n",
    "\n",
    "lats = ncTest.createVariable(\"lat\",\"f4\",(\"lat\",))\n",
    "\n",
    "lons = ncTest.createVariable(\"lon\",\"f4\",(\"lon\",))\n",
    "\n",
    "testVar = ncTest.createVariable(\"tvar\",\"f4\",(\"time\",\"lat\",\"lon\",))"
   ]
  },
  {
   "cell_type": "code",
   "execution_count": 9,
   "metadata": {
    "nbpresent": {
     "id": "cab162ca-5a1a-404e-aee2-a43722451461"
    }
   },
   "outputs": [
    {
     "data": {
      "text/plain": [
       "OrderedDict([('time', <type 'netCDF4._netCDF4.Variable'>\n",
       "              int32 time(time)\n",
       "              unlimited dimensions: time\n",
       "              current shape = (0,)\n",
       "              filling on, default _FillValue of -2147483647 used),\n",
       "             ('lat', <type 'netCDF4._netCDF4.Variable'>\n",
       "              float32 lat(lat)\n",
       "              unlimited dimensions: \n",
       "              current shape = (180,)\n",
       "              filling on, default _FillValue of 9.96920996839e+36 used),\n",
       "             ('lon', <type 'netCDF4._netCDF4.Variable'>\n",
       "              float32 lon(lon)\n",
       "              unlimited dimensions: \n",
       "              current shape = (360,)\n",
       "              filling on, default _FillValue of 9.96920996839e+36 used),\n",
       "             ('tvar', <type 'netCDF4._netCDF4.Variable'>\n",
       "              float32 tvar(time, lat, lon)\n",
       "              unlimited dimensions: time\n",
       "              current shape = (0, 180, 360)\n",
       "              filling on, default _FillValue of 9.96920996839e+36 used)])"
      ]
     },
     "execution_count": 9,
     "metadata": {},
     "output_type": "execute_result"
    }
   ],
   "source": [
    "ncTest.variables"
   ]
  },
  {
   "cell_type": "markdown",
   "metadata": {},
   "source": [
    "### &emsp;&emsp;&emsp;&emsp; - Atributos\n",
    "\n",
    "#### &emsp;&emsp;&emsp;&emsp; Informações tanto do conjunto quanto de uma variável isolada"
   ]
  },
  {
   "cell_type": "code",
   "execution_count": 7,
   "metadata": {
    "nbpresent": {
     "id": "ccd24d83-fb84-4a89-99dd-2e4f3f7b6325"
    }
   },
   "outputs": [],
   "source": [
    "import time\n",
    "\n",
    "ncTest.description = \"exemplo aula netCDF\"\n",
    "\n",
    "ncTest.history = \"Created \" + time.ctime(time.time())\n",
    "\n",
    "lats.units = \"graus norte\"\n",
    "\n",
    "lons.units = \"graus leste\"\n",
    "\n",
    "times.units = \"days since 2018-01-01 00:00:00.0\"\n",
    "\n",
    "testVar.offset = 30"
   ]
  },
  {
   "cell_type": "code",
   "execution_count": 11,
   "metadata": {},
   "outputs": [
    {
     "data": {
      "text/plain": [
       "<type 'netCDF4._netCDF4.Dataset'>\n",
       "root group (NETCDF4 data model, file format HDF5):\n",
       "    description: exemplo aula netCDF\n",
       "    history: Created Wed Aug  8 22:39:02 2018\n",
       "    dimensions(sizes): time(0), lat(180), lon(360)\n",
       "    variables(dimensions): int32 \u001b[4mtime\u001b[0m(time), float32 \u001b[4mlat\u001b[0m(lat), float32 \u001b[4mlon\u001b[0m(lon), float32 \u001b[4mtvar\u001b[0m(time,lat,lon)\n",
       "    groups: grupo1"
      ]
     },
     "execution_count": 11,
     "metadata": {},
     "output_type": "execute_result"
    }
   ],
   "source": [
    "ncTest"
   ]
  },
  {
   "cell_type": "code",
   "execution_count": 12,
   "metadata": {
    "nbpresent": {
     "id": "20893286-3fde-48a6-9ced-db66010ffa4a"
    }
   },
   "outputs": [
    {
     "data": {
      "text/plain": [
       "[u'description', u'history']"
      ]
     },
     "execution_count": 12,
     "metadata": {},
     "output_type": "execute_result"
    }
   ],
   "source": [
    "ncTest.ncattrs()"
   ]
  },
  {
   "cell_type": "code",
   "execution_count": 13,
   "metadata": {
    "nbpresent": {
     "id": "66aaf01b-9ef1-4edb-a755-e3f3083c9efe"
    }
   },
   "outputs": [
    {
     "name": "stdout",
     "output_type": "stream",
     "text": [
      "description: exemplo aula netCDF\n",
      "history: Created Wed Aug  8 22:39:02 2018\n"
     ]
    }
   ],
   "source": [
    "for attr in ncTest.ncattrs():\n",
    "    print('%s: %s' % (attr, ncTest.getncattr(attr)))"
   ]
  },
  {
   "cell_type": "code",
   "execution_count": 14,
   "metadata": {
    "nbpresent": {
     "id": "7bcabff9-0f2f-4a73-99a8-e16a315629e0"
    }
   },
   "outputs": [
    {
     "data": {
      "text/plain": [
       "u'units: days since 2018-01-01 00:00:00.0'"
      ]
     },
     "execution_count": 14,
     "metadata": {},
     "output_type": "execute_result"
    }
   ],
   "source": [
    "times.ncattrs()[0]+': '+times.units"
   ]
  },
  {
   "cell_type": "code",
   "execution_count": 15,
   "metadata": {
    "nbpresent": {
     "id": "cec30ed6-01a6-4418-b5d9-0db3639eb2a9"
    }
   },
   "outputs": [
    {
     "data": {
      "text/plain": [
       "<type 'netCDF4._netCDF4.Variable'>\n",
       "float32 tvar(time, lat, lon)\n",
       "    offset: 30\n",
       "unlimited dimensions: time\n",
       "current shape = (0, 180, 360)\n",
       "filling on, default _FillValue of 9.96920996839e+36 used"
      ]
     },
     "execution_count": 15,
     "metadata": {},
     "output_type": "execute_result"
    }
   ],
   "source": [
    "ncTest.variables['tvar']"
   ]
  },
  {
   "cell_type": "markdown",
   "metadata": {},
   "source": [
    "<br>\n",
    "<hr style=\"background-color:gray;height:20px;\">\n",
    "<br>\n",
    "\n",
    "## 4. Escrevendo dados\n",
    "\n",
    "### Para acessar os dados das variáveis, tanto para escrever quanto para recupera-los, usar os caracteres padrão de indexação de objetos sequenciais ([ : ]) na frente do nome da variável"
   ]
  },
  {
   "cell_type": "code",
   "execution_count": 8,
   "metadata": {},
   "outputs": [],
   "source": [
    "lats[:] = np.arange(-89.5,89.6)"
   ]
  },
  {
   "cell_type": "code",
   "execution_count": 17,
   "metadata": {},
   "outputs": [
    {
     "data": {
      "text/plain": [
       "<type 'netCDF4._netCDF4.Variable'>\n",
       "float32 lat(lat)\n",
       "    units: graus norte\n",
       "unlimited dimensions: \n",
       "current shape = (180,)\n",
       "filling on, default _FillValue of 9.96920996839e+36 used"
      ]
     },
     "execution_count": 17,
     "metadata": {},
     "output_type": "execute_result"
    }
   ],
   "source": [
    "lats"
   ]
  },
  {
   "cell_type": "code",
   "execution_count": 18,
   "metadata": {},
   "outputs": [
    {
     "data": {
      "text/plain": [
       "array([-89.5, -88.5, -87.5, -86.5, -85.5, -84.5, -83.5, -82.5, -81.5,\n",
       "       -80.5, -79.5, -78.5, -77.5, -76.5, -75.5, -74.5, -73.5, -72.5,\n",
       "       -71.5, -70.5, -69.5, -68.5, -67.5, -66.5, -65.5, -64.5, -63.5,\n",
       "       -62.5, -61.5, -60.5, -59.5, -58.5, -57.5, -56.5, -55.5, -54.5,\n",
       "       -53.5, -52.5, -51.5, -50.5, -49.5, -48.5, -47.5, -46.5, -45.5,\n",
       "       -44.5, -43.5, -42.5, -41.5, -40.5, -39.5, -38.5, -37.5, -36.5,\n",
       "       -35.5, -34.5, -33.5, -32.5, -31.5, -30.5, -29.5, -28.5, -27.5,\n",
       "       -26.5, -25.5, -24.5, -23.5, -22.5, -21.5, -20.5, -19.5, -18.5,\n",
       "       -17.5, -16.5, -15.5, -14.5, -13.5, -12.5, -11.5, -10.5,  -9.5,\n",
       "        -8.5,  -7.5,  -6.5,  -5.5,  -4.5,  -3.5,  -2.5,  -1.5,  -0.5,\n",
       "         0.5,   1.5,   2.5,   3.5,   4.5,   5.5,   6.5,   7.5,   8.5,\n",
       "         9.5,  10.5,  11.5,  12.5,  13.5,  14.5,  15.5,  16.5,  17.5,\n",
       "        18.5,  19.5,  20.5,  21.5,  22.5,  23.5,  24.5,  25.5,  26.5,\n",
       "        27.5,  28.5,  29.5,  30.5,  31.5,  32.5,  33.5,  34.5,  35.5,\n",
       "        36.5,  37.5,  38.5,  39.5,  40.5,  41.5,  42.5,  43.5,  44.5,\n",
       "        45.5,  46.5,  47.5,  48.5,  49.5,  50.5,  51.5,  52.5,  53.5,\n",
       "        54.5,  55.5,  56.5,  57.5,  58.5,  59.5,  60.5,  61.5,  62.5,\n",
       "        63.5,  64.5,  65.5,  66.5,  67.5,  68.5,  69.5,  70.5,  71.5,\n",
       "        72.5,  73.5,  74.5,  75.5,  76.5,  77.5,  78.5,  79.5,  80.5,\n",
       "        81.5,  82.5,  83.5,  84.5,  85.5,  86.5,  87.5,  88.5,  89.5],\n",
       "      dtype=float32)"
      ]
     },
     "execution_count": 18,
     "metadata": {},
     "output_type": "execute_result"
    }
   ],
   "source": [
    "lats[:]"
   ]
  },
  {
   "cell_type": "markdown",
   "metadata": {},
   "source": [
    "#### Para variáveis com dimenções limitadas, como lat e lon que têm apenas uma dimenção, elas mesmas, as arrays de dados que serão armazenadas devem ter o tamanho exato das dimensões"
   ]
  },
  {
   "cell_type": "code",
   "execution_count": 10,
   "metadata": {},
   "outputs": [],
   "source": [
    "lons[:] = np.arange(-179.5,179.6)"
   ]
  },
  {
   "cell_type": "code",
   "execution_count": 11,
   "metadata": {},
   "outputs": [
    {
     "data": {
      "text/plain": [
       "(360,)"
      ]
     },
     "execution_count": 11,
     "metadata": {},
     "output_type": "execute_result"
    }
   ],
   "source": [
    "lons[:].shape"
   ]
  },
  {
   "cell_type": "markdown",
   "metadata": {},
   "source": [
    "#### Para evitar o armazenamento de longas _timestamps_, geralmente os dados vêm na forma _timedeltas_ referentes à um número que reprenta a variação de tantas unidades de tempo a partir de uma certa origem. \n",
    "\n",
    "#### Unidades e origem são informadas nos atributos."
   ]
  },
  {
   "cell_type": "code",
   "execution_count": 12,
   "metadata": {},
   "outputs": [],
   "source": [
    "hj = pd.Timestamp(2018,8,9)"
   ]
  },
  {
   "cell_type": "code",
   "execution_count": 13,
   "metadata": {},
   "outputs": [
    {
     "data": {
      "text/plain": [
       "Timestamp('2018-08-09 00:00:00')"
      ]
     },
     "execution_count": 13,
     "metadata": {},
     "output_type": "execute_result"
    }
   ],
   "source": [
    "hj"
   ]
  },
  {
   "cell_type": "code",
   "execution_count": 14,
   "metadata": {},
   "outputs": [],
   "source": [
    "hj_jul = hj.dayofyear"
   ]
  },
  {
   "cell_type": "code",
   "execution_count": 15,
   "metadata": {},
   "outputs": [
    {
     "data": {
      "text/plain": [
       "221"
      ]
     },
     "execution_count": 15,
     "metadata": {},
     "output_type": "execute_result"
    }
   ],
   "source": [
    "hj_jul"
   ]
  },
  {
   "cell_type": "code",
   "execution_count": 16,
   "metadata": {},
   "outputs": [],
   "source": [
    "times[:] = np.arange(hj_jul-1,hj_jul+3)"
   ]
  },
  {
   "cell_type": "code",
   "execution_count": 17,
   "metadata": {},
   "outputs": [
    {
     "data": {
      "text/plain": [
       "masked_array(data=[220, 221, 222, 223],\n",
       "             mask=[False, False, False, False],\n",
       "       fill_value=-2147483647,\n",
       "            dtype=int32)"
      ]
     },
     "execution_count": 17,
     "metadata": {},
     "output_type": "execute_result"
    }
   ],
   "source": [
    "times[:]"
   ]
  },
  {
   "cell_type": "code",
   "execution_count": 19,
   "metadata": {},
   "outputs": [
    {
     "data": {
      "text/plain": [
       "DatetimeIndex(['2018-08-09', '2018-08-10', '2018-08-11', '2018-08-12'], dtype='datetime64[ns]', freq=None)"
      ]
     },
     "execution_count": 19,
     "metadata": {},
     "output_type": "execute_result"
    }
   ],
   "source": [
    "pd.to_datetime(times[:], unit='d', origin='2018-01-01')"
   ]
  },
  {
   "cell_type": "code",
   "execution_count": 25,
   "metadata": {},
   "outputs": [],
   "source": [
    "testVar[:] = np.random.rand(4,180,360)"
   ]
  },
  {
   "cell_type": "code",
   "execution_count": 26,
   "metadata": {},
   "outputs": [
    {
     "data": {
      "text/plain": [
       "(4, 180, 360)"
      ]
     },
     "execution_count": 26,
     "metadata": {},
     "output_type": "execute_result"
    }
   ],
   "source": [
    "testVar[:].shape"
   ]
  },
  {
   "cell_type": "code",
   "execution_count": 27,
   "metadata": {
    "scrolled": true
   },
   "outputs": [
    {
     "data": {
      "text/plain": [
       "<type 'netCDF4._netCDF4.Dataset'>\n",
       "root group (NETCDF4 data model, file format HDF5):\n",
       "    description: exemplo aula netCDF\n",
       "    history: Created Wed Aug  8 22:39:02 2018\n",
       "    dimensions(sizes): time(4), lat(180), lon(360)\n",
       "    variables(dimensions): int32 \u001b[4mtime\u001b[0m(time), float32 \u001b[4mlat\u001b[0m(lat), float32 \u001b[4mlon\u001b[0m(lon), float32 \u001b[4mtvar\u001b[0m(time,lat,lon)\n",
       "    groups: grupo1"
      ]
     },
     "execution_count": 27,
     "metadata": {},
     "output_type": "execute_result"
    }
   ],
   "source": [
    "ncTest"
   ]
  },
  {
   "cell_type": "markdown",
   "metadata": {},
   "source": [
    "#### Usando o método _close()_ o arquivo é salvo e fechado"
   ]
  },
  {
   "cell_type": "code",
   "execution_count": 28,
   "metadata": {},
   "outputs": [],
   "source": [
    "ncTest.close()"
   ]
  },
  {
   "cell_type": "markdown",
   "metadata": {},
   "source": [
    "#### Abrindo arquivo e o atribuindo à um novo objeto"
   ]
  },
  {
   "cell_type": "code",
   "execution_count": 29,
   "metadata": {},
   "outputs": [],
   "source": [
    "ncNovo = nc.Dataset('Dropbox/aula_nc/ncTest.nc')"
   ]
  },
  {
   "cell_type": "code",
   "execution_count": 30,
   "metadata": {},
   "outputs": [
    {
     "data": {
      "text/plain": [
       "<type 'netCDF4._netCDF4.Dataset'>\n",
       "root group (NETCDF4 data model, file format HDF5):\n",
       "    description: exemplo aula netCDF\n",
       "    history: Created Wed Aug  8 22:39:02 2018\n",
       "    dimensions(sizes): time(4), lat(180), lon(360)\n",
       "    variables(dimensions): int32 \u001b[4mtime\u001b[0m(time), float32 \u001b[4mlat\u001b[0m(lat), float32 \u001b[4mlon\u001b[0m(lon), float32 \u001b[4mtvar\u001b[0m(time,lat,lon)\n",
       "    groups: grupo1"
      ]
     },
     "execution_count": 30,
     "metadata": {},
     "output_type": "execute_result"
    }
   ],
   "source": [
    "ncNovo"
   ]
  },
  {
   "cell_type": "code",
   "execution_count": null,
   "metadata": {},
   "outputs": [],
   "source": []
  },
  {
   "cell_type": "markdown",
   "metadata": {},
   "source": [
    "### Recuperando os dados e plotando"
   ]
  },
  {
   "cell_type": "code",
   "execution_count": 31,
   "metadata": {},
   "outputs": [
    {
     "data": {
      "image/png": "[encoded data removed]",
      "text/plain": [
       "<Figure size 432x288 with 4 Axes>"
      ]
     },
     "metadata": {},
     "output_type": "display_data"
    }
   ],
   "source": [
    "f, axs = plt.subplots(2,2, sharex=True, sharey=True)\n",
    "axs = axs.flatten()\n",
    "for ax, dado, tempo in  zip(axs, ncNovo.variables['tvar'][:], ncNovo.variables['time'][:]):\n",
    "    # Plot em cada eixo\n",
    "    ax.imshow(dado)\n",
    "    \n",
    "    #epoch to timestamp\n",
    "    tit = pd.to_datetime(tempo, unit='d', origin='2018-01-01').strftime('%d/%m/%Y')\n",
    "    ax.set_title(tit)\n",
    "    \n",
    "    # escolhendo ticks\n",
    "    ax.set_yticks([0,90,180])\n",
    "    ax.set_xticks([0,90,180,270,360])\n",
    "    ax.set_yticklabels([u'90°N',u'0°',u'90°S'])\n",
    "    ax.set_xticklabels([u' ',u'90°O',u'0°',u'90°L',u'180°L'])\n",
    "    \n",
    "    \n"
   ]
  }
 ],
 "metadata": {
  "celltoolbar": "Raw Cell Format",
  "kernelspec": {
   "display_name": "Python 2",
   "language": "python",
   "name": "python2"
  },
  "language_info": {
   "codemirror_mode": {
    "name": "ipython",
    "version": 2
   },
   "file_extension": ".py",
   "mimetype": "text/x-python",
   "name": "python",
   "nbconvert_exporter": "python",
   "pygments_lexer": "ipython2",
   "version": "2.7.15"
  },
  "nbpresent": {
   "slides": {
    "0ec8ae03-0091-48ea-a5f6-55284e89706c": {
     "id": "0ec8ae03-0091-48ea-a5f6-55284e89706c",
     "prev": "91fc5294-4f36-469b-bd33-299dc0b7fa71",
     "regions": {
      "1e588bef-4da3-45d7-b723-6b0b62488aec": {
       "attrs": {
        "height": 0.8,
        "width": 0.8,
        "x": 0.1,
        "y": 0.1
       },
       "content": {
        "cell": "3709ee3d-424e-4422-b4e9-a0449896d6d5",
        "part": "whole"
       },
       "id": "1e588bef-4da3-45d7-b723-6b0b62488aec"
      }
     }
    },
    "103766b2-3f5c-44fd-9c61-135ce3796190": {
     "id": "103766b2-3f5c-44fd-9c61-135ce3796190",
     "prev": "c0823966-198d-478d-842a-1e4ed8fabefc",
     "regions": {
      "5576812e-c6dc-447f-9790-1e68418a18a9": {
       "attrs": {
        "height": 0.8,
        "width": 0.8,
        "x": 0.1,
        "y": 0.1
       },
       "content": {
        "cell": "5c310bbb-1603-484f-8d88-70c9f1a480c7",
        "part": "whole"
       },
       "id": "5576812e-c6dc-447f-9790-1e68418a18a9"
      }
     }
    },
    "10f328b6-39cb-47d8-bedb-e7f241a575c3": {
     "id": "10f328b6-39cb-47d8-bedb-e7f241a575c3",
     "prev": "d53fc1b8-9767-4e34-8ea8-7ff456938fb1",
     "regions": {
      "beb44a0a-ddc1-4edf-8bac-59cbd939a96c": {
       "attrs": {
        "height": 0.8,
        "width": 0.8,
        "x": 0.1,
        "y": 0.1
       },
       "content": {
        "cell": "0947da24-aeca-4da4-a8f1-2e790a984314",
        "part": "whole"
       },
       "id": "beb44a0a-ddc1-4edf-8bac-59cbd939a96c"
      }
     }
    },
    "254bf81a-9217-40b8-9c46-86da03d668ad": {
     "id": "254bf81a-9217-40b8-9c46-86da03d668ad",
     "prev": "0ec8ae03-0091-48ea-a5f6-55284e89706c",
     "regions": {
      "68c76550-5ff0-4907-9e47-e614cceb3f45": {
       "attrs": {
        "height": 0.8,
        "width": 0.8,
        "x": 0.1,
        "y": 0.1
       },
       "content": {
        "cell": "ba0717b8-95fa-460d-9e89-d9fa67a937dc",
        "part": "whole"
       },
       "id": "68c76550-5ff0-4907-9e47-e614cceb3f45"
      }
     }
    },
    "285605a6-2d33-4c73-8fbd-412e397fd815": {
     "id": "285605a6-2d33-4c73-8fbd-412e397fd815",
     "prev": "76915e3a-8396-4533-b9c5-a345b4b409a3",
     "regions": {
      "d0b2bdfe-7d31-4113-8236-532c2c2ccae7": {
       "attrs": {
        "height": 0.8,
        "width": 0.8,
        "x": 0.1,
        "y": 0.1
       },
       "content": {
        "cell": "3b06040a-da0b-4d90-a45b-4cbcb8019244",
        "part": "whole"
       },
       "id": "d0b2bdfe-7d31-4113-8236-532c2c2ccae7"
      }
     }
    },
    "3b748f9f-78bf-462c-ad95-7fceeffec799": {
     "id": "3b748f9f-78bf-462c-ad95-7fceeffec799",
     "prev": null,
     "regions": {
      "3fc47be6-2e71-4091-b12e-25b8b69e5568": {
       "attrs": {
        "height": 0.8,
        "width": 0.8,
        "x": 0.1,
        "y": 0.1
       },
       "content": {
        "cell": "c2d94016-ae40-4065-b2f9-187640208d5e",
        "part": "whole"
       },
       "id": "3fc47be6-2e71-4091-b12e-25b8b69e5568"
      }
     }
    },
    "491516fa-9e97-4507-b6a8-6fc75d6337e1": {
     "id": "491516fa-9e97-4507-b6a8-6fc75d6337e1",
     "prev": "254bf81a-9217-40b8-9c46-86da03d668ad",
     "regions": {
      "610e331e-597e-4020-868a-78dcf8b0ad7e": {
       "attrs": {
        "height": 0.8,
        "width": 0.8,
        "x": 0.1,
        "y": 0.1
       },
       "content": {
        "cell": "a66d99cd-03b6-40c5-94df-1f9f9784d8ea",
        "part": "whole"
       },
       "id": "610e331e-597e-4020-868a-78dcf8b0ad7e"
      }
     }
    },
    "4fc78440-5bcd-40fb-80ce-e4073da0a10b": {
     "id": "4fc78440-5bcd-40fb-80ce-e4073da0a10b",
     "prev": "f18ec998-b600-41d3-a08f-9d348256e841",
     "regions": {
      "b48ef852-ab04-4a86-902c-6aaf1407161e": {
       "attrs": {
        "height": 0.8,
        "width": 0.8,
        "x": 0.1,
        "y": 0.1
       },
       "content": {
        "cell": "7bcabff9-0f2f-4a73-99a8-e16a315629e0",
        "part": "whole"
       },
       "id": "b48ef852-ab04-4a86-902c-6aaf1407161e"
      }
     }
    },
    "6ff2facc-6afe-4aec-af4e-e71c9b90416d": {
     "id": "6ff2facc-6afe-4aec-af4e-e71c9b90416d",
     "prev": "10f328b6-39cb-47d8-bedb-e7f241a575c3",
     "regions": {
      "3d1ecc02-1026-4391-9b15-2fd2d2423fbd": {
       "attrs": {
        "height": 0.8,
        "width": 0.8,
        "x": 0.1,
        "y": 0.1
       },
       "content": {
        "cell": "f728f2ba-839e-403a-97ca-1bfdb4f6ad61",
        "part": "whole"
       },
       "id": "3d1ecc02-1026-4391-9b15-2fd2d2423fbd"
      }
     }
    },
    "76915e3a-8396-4533-b9c5-a345b4b409a3": {
     "id": "76915e3a-8396-4533-b9c5-a345b4b409a3",
     "prev": "4fc78440-5bcd-40fb-80ce-e4073da0a10b",
     "regions": {
      "a6568218-37f9-4bfe-b9d3-187b18eb2df0": {
       "attrs": {
        "height": 0.8,
        "width": 0.8,
        "x": 0.1,
        "y": 0.1
       },
       "content": {
        "cell": "cec30ed6-01a6-4418-b5d9-0db3639eb2a9",
        "part": "whole"
       },
       "id": "a6568218-37f9-4bfe-b9d3-187b18eb2df0"
      }
     }
    },
    "84750401-f98a-46aa-9d47-77c169882895": {
     "id": "84750401-f98a-46aa-9d47-77c169882895",
     "prev": "f234c671-dbb4-42e0-8452-05a2f9d75a43",
     "regions": {
      "60842693-eb3b-476f-a98f-349e38ee1cfa": {
       "attrs": {
        "height": 0.8,
        "width": 0.8,
        "x": 0.1,
        "y": 0.1
       },
       "content": {
        "cell": "ce8617bf-6377-4534-8d82-19d33a56f722",
        "part": "whole"
       },
       "id": "60842693-eb3b-476f-a98f-349e38ee1cfa"
      }
     }
    },
    "8ef0e478-3555-4a6a-9196-64dd9ff04222": {
     "id": "8ef0e478-3555-4a6a-9196-64dd9ff04222",
     "prev": "a0729fc8-e3ac-4cc4-ace2-9cec066988f2",
     "regions": {
      "6025ecf6-d3a3-4ab2-a5dc-3e78517c296a": {
       "attrs": {
        "height": 0.8,
        "width": 0.8,
        "x": 0.1,
        "y": 0.1
       },
       "content": {
        "cell": "cb0a4b1f-272d-4f8e-928e-e67a0f06fbf9",
        "part": "whole"
       },
       "id": "6025ecf6-d3a3-4ab2-a5dc-3e78517c296a"
      }
     }
    },
    "8f98aca7-700d-4cb0-b740-fe4ac17ea0bb": {
     "id": "8f98aca7-700d-4cb0-b740-fe4ac17ea0bb",
     "prev": "103766b2-3f5c-44fd-9c61-135ce3796190",
     "regions": {
      "816dcbfb-2e50-4b93-a12a-fa9392140624": {
       "attrs": {
        "height": 0.8,
        "width": 0.8,
        "x": 0.1,
        "y": 0.1
       },
       "content": {
        "cell": "ccd24d83-fb84-4a89-99dd-2e4f3f7b6325",
        "part": "whole"
       },
       "id": "816dcbfb-2e50-4b93-a12a-fa9392140624"
      }
     }
    },
    "91fc5294-4f36-469b-bd33-299dc0b7fa71": {
     "id": "91fc5294-4f36-469b-bd33-299dc0b7fa71",
     "prev": "c058de12-c42f-4357-9506-2c19b9fafdfa",
     "regions": {
      "c9490a0d-5682-4aa4-90d7-534593545ded": {
       "attrs": {
        "height": 0.8,
        "width": 0.8,
        "x": 0.1,
        "y": 0.1
       },
       "content": {
        "cell": "f31a9517-95d1-4bde-83cd-75f7ded14836",
        "part": "whole"
       },
       "id": "c9490a0d-5682-4aa4-90d7-534593545ded"
      }
     }
    },
    "a0729fc8-e3ac-4cc4-ace2-9cec066988f2": {
     "id": "a0729fc8-e3ac-4cc4-ace2-9cec066988f2",
     "prev": "84750401-f98a-46aa-9d47-77c169882895",
     "regions": {
      "40a94811-3b05-41fb-a3a7-437bb3fc1d38": {
       "attrs": {
        "height": 0.8,
        "width": 0.8,
        "x": 0.1,
        "y": 0.1
       },
       "content": {
        "cell": "11447f4b-65ad-4b9b-98f7-e496662488b1",
        "part": "whole"
       },
       "id": "40a94811-3b05-41fb-a3a7-437bb3fc1d38"
      }
     }
    },
    "b1f142d5-202b-4ce4-a933-fa67a961f3dc": {
     "id": "b1f142d5-202b-4ce4-a933-fa67a961f3dc",
     "prev": "285605a6-2d33-4c73-8fbd-412e397fd815",
     "regions": {
      "a07032d8-74a5-44ff-af2e-b9a7414c30cd": {
       "attrs": {
        "height": 0.8,
        "width": 0.8,
        "x": 0.1,
        "y": 0.1
       },
       "content": {
        "cell": "532c2450-3bb0-4574-b9dd-48065a4caaa8",
        "part": "whole"
       },
       "id": "a07032d8-74a5-44ff-af2e-b9a7414c30cd"
      }
     }
    },
    "c058de12-c42f-4357-9506-2c19b9fafdfa": {
     "id": "c058de12-c42f-4357-9506-2c19b9fafdfa",
     "prev": "3b748f9f-78bf-462c-ad95-7fceeffec799",
     "regions": {
      "859bb326-99a7-44a2-b2fa-c343279c7b3d": {
       "attrs": {
        "height": 0.8,
        "width": 0.8,
        "x": 0.1,
        "y": 0.1
       },
       "content": {
        "cell": "185a0787-7732-4789-bd94-94a4663fc9e4",
        "part": "whole"
       },
       "id": "859bb326-99a7-44a2-b2fa-c343279c7b3d"
      }
     }
    },
    "c0823966-198d-478d-842a-1e4ed8fabefc": {
     "id": "c0823966-198d-478d-842a-1e4ed8fabefc",
     "prev": "6ff2facc-6afe-4aec-af4e-e71c9b90416d",
     "regions": {
      "21c2ef3b-ecc2-4825-9ccc-7d48d09b7337": {
       "attrs": {
        "height": 0.8,
        "width": 0.8,
        "x": 0.1,
        "y": 0.1
       },
       "content": {
        "cell": "cab162ca-5a1a-404e-aee2-a43722451461",
        "part": "whole"
       },
       "id": "21c2ef3b-ecc2-4825-9ccc-7d48d09b7337"
      }
     }
    },
    "d53fc1b8-9767-4e34-8ea8-7ff456938fb1": {
     "id": "d53fc1b8-9767-4e34-8ea8-7ff456938fb1",
     "prev": "8ef0e478-3555-4a6a-9196-64dd9ff04222",
     "regions": {
      "3d4c8442-2db2-4cd8-a3b8-6c5638ec748f": {
       "attrs": {
        "height": 0.8,
        "width": 0.8,
        "x": 0.1,
        "y": 0.1
       },
       "content": {
        "cell": "7eedbfdc-67bc-4c80-a390-7fb7d5aba4d2",
        "part": "whole"
       },
       "id": "3d4c8442-2db2-4cd8-a3b8-6c5638ec748f"
      }
     }
    },
    "f18ec998-b600-41d3-a08f-9d348256e841": {
     "id": "f18ec998-b600-41d3-a08f-9d348256e841",
     "prev": "8f98aca7-700d-4cb0-b740-fe4ac17ea0bb",
     "regions": {
      "e0cc086e-a2d8-4249-ba84-9ad15bf142f0": {
       "attrs": {
        "height": 0.8,
        "width": 0.8,
        "x": 0.1,
        "y": 0.1
       },
       "content": {
        "cell": "66aaf01b-9ef1-4edb-a755-e3f3083c9efe",
        "part": "whole"
       },
       "id": "e0cc086e-a2d8-4249-ba84-9ad15bf142f0"
      }
     }
    },
    "f234c671-dbb4-42e0-8452-05a2f9d75a43": {
     "id": "f234c671-dbb4-42e0-8452-05a2f9d75a43",
     "prev": "491516fa-9e97-4507-b6a8-6fc75d6337e1",
     "regions": {
      "946598c3-3a0a-42ee-a537-0de4ab823fc8": {
       "attrs": {
        "height": 0.8,
        "width": 0.8,
        "x": 0.1,
        "y": 0.1
       },
       "content": {
        "cell": "21ae8104-f83d-4c1c-aa75-a40f243aaece",
        "part": "whole"
       },
       "id": "946598c3-3a0a-42ee-a537-0de4ab823fc8"
      }
     }
    }
   },
   "themes": {
    "default": "8ddf2290-377b-4dc9-8b7b-e4dbefbc14d9",
    "theme": {}
   }
  }
 },
 "nbformat": 4,
 "nbformat_minor": 2
}
